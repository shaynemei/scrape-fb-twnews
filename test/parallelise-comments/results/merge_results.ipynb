{
 "cells": [
  {
   "cell_type": "code",
   "execution_count": 2,
   "metadata": {},
   "outputs": [
    {
     "name": "stderr",
     "output_type": "stream",
     "text": [
      "C:\\Program Files\\Anaconda3\\envs\\nlp\\lib\\site-packages\\IPython\\core\\interactiveshell.py:2901: DtypeWarning: Columns (9,10) have mixed types. Specify dtype option on import or set low_memory=False.\n",
      "  if self.run_code(code, result):\n"
     ]
    }
   ],
   "source": [
    "import pandas as pd\n",
    "\n",
    "def initCSV():\n",
    "    import csv\n",
    "    with open('merged-results/article_links.csv', 'w', encoding=\"utf-8\") as csvfile:\n",
    "        filewriter = csv.writer(csvfile, delimiter=',',\n",
    "                                quotechar='|', quoting=csv.QUOTE_MINIMAL)\n",
    "        filewriter.writerow(['article_index', 'article_id', 'article_links', 'page'])\n",
    "        \n",
    "    with open('merged-results/comments.csv', 'w', encoding=\"utf-8\") as csvfile:\n",
    "        filewriter = csv.writer(csvfile, delimiter=',',\n",
    "                                quotechar='|', quoting=csv.QUOTE_MINIMAL)\n",
    "        filewriter.writerow(['article_index', 'comment_text', 'likes', 'has_sticker', \n",
    "                            'has_gif', 'has_img', 'has_vid', 'num_friend_tags',\n",
    "                            'num_hashtags', 'hashtag_text', 'aria_text', 'page'])\n",
    "\n",
    "def addColPage(page):\n",
    "    df_article_links = pd.read_csv(page+'_article_links.csv', header=0)\n",
    "    df_comments = pd.read_csv(page+'_comments.csv', header=0)\n",
    "    df_article_links['page'] = page\n",
    "    df_comments['page'] = page\n",
    "    return df_article_links, df_comments\n",
    "\n",
    "def mergeResults(df_article_links, df_comments):\n",
    "    # Append results to existing files\n",
    "    with open('merged-results/article_links.csv', 'a', encoding=\"utf-8\") as f:\n",
    "        df_article_links.to_csv(f, header=False, index=False)\n",
    "        \n",
    "    with open('merged-results/comments.csv', 'a', encoding=\"utf-8\") as f:\n",
    "        df_comments.to_csv(f, header=False, index=False)\n",
    "\n",
    "initCSV()\n",
    "page_names = ['ettoday', 'ebc', 'apple', 'yahoo', 'udn', 'tvbs', 'set', 'ltn']\n",
    "\n",
    "for page in page_names:\n",
    "    df_article_links, df_comments = addColPage(page)\n",
    "    mergeResults(df_article_links, df_comments)"
   ]
  },
  {
   "cell_type": "code",
   "execution_count": 7,
   "metadata": {},
   "outputs": [
    {
     "name": "stdout",
     "output_type": "stream",
     "text": [
      "892673\n"
     ]
    }
   ],
   "source": [
    "# Check results\n",
    "result_comments = pd.read_csv('merged-results/comments.csv', header=0, index_col=False)\n",
    "result_comments\n",
    "print(len(result_comments))"
   ]
  },
  {
   "cell_type": "code",
   "execution_count": 3,
   "metadata": {},
   "outputs": [
    {
     "ename": "SyntaxError",
     "evalue": "invalid syntax (<ipython-input-3-5ee3ae070f6a>, line 7)",
     "output_type": "error",
     "traceback": [
      "\u001b[1;36m  File \u001b[1;32m\"<ipython-input-3-5ee3ae070f6a>\"\u001b[1;36m, line \u001b[1;32m7\u001b[0m\n\u001b[1;33m    result_article_links = pd.read_csv('merged-results/article_links.csv', header=0, index_col=False)\u001b[0m\n\u001b[1;37m                       ^\u001b[0m\n\u001b[1;31mSyntaxError\u001b[0m\u001b[1;31m:\u001b[0m invalid syntax\n"
     ]
    }
   ],
   "source": [
    "# Check results\n",
    "result_article_links = pd.read_csv('merged-results/article_links.csv', header=0, index_col=False)\n",
    "print(result_links.head)\n",
    "print(len(result_links))"
   ]
  },
  {
   "cell_type": "code",
   "execution_count": null,
   "metadata": {},
   "outputs": [],
   "source": []
  }
 ],
 "metadata": {
  "kernelspec": {
   "display_name": "Python 3",
   "language": "python",
   "name": "python3"
  },
  "language_info": {
   "codemirror_mode": {
    "name": "ipython",
    "version": 3
   },
   "file_extension": ".py",
   "mimetype": "text/x-python",
   "name": "python",
   "nbconvert_exporter": "python",
   "pygments_lexer": "ipython3",
   "version": "3.5.6"
  }
 },
 "nbformat": 4,
 "nbformat_minor": 2
}
