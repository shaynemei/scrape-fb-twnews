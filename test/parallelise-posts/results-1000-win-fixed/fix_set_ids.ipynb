{
 "cells": [
  {
   "cell_type": "code",
   "execution_count": 1,
   "metadata": {},
   "outputs": [
    {
     "name": "stdout",
     "output_type": "stream",
     "text": [
      "Dropped 6 rows of data.\n"
     ]
    }
   ],
   "source": [
    "import pandas as pd\n",
    "page = 'set'\n",
    "df = pd.read_csv('/Users/Shayne/jupyter/web-scraping/fb-comment/parallelise-article-ids/results/results-1000-win/'+page+'_ids.csv', header=None)\n",
    "before_len = len(df)\n",
    "\n",
    "# Remove not ids\n",
    "df = df.drop(df[df[0].str.startswith('\"')].index)\n",
    "\n",
    "# Save fixed results to csv\n",
    "df.to_csv(page+'_ids.csv', encoding='utf-8', header=None, index=False)\n",
    "\n",
    "print('Dropped %i rows of data.' %(before_len - len(df)) )\n",
    "\n"
   ]
  },
  {
   "cell_type": "code",
   "execution_count": null,
   "metadata": {},
   "outputs": [],
   "source": []
  }
 ],
 "metadata": {
  "kernelspec": {
   "display_name": "Python 3",
   "language": "python",
   "name": "python3"
  },
  "language_info": {
   "codemirror_mode": {
    "name": "ipython",
    "version": 3
   },
   "file_extension": ".py",
   "mimetype": "text/x-python",
   "name": "python",
   "nbconvert_exporter": "python",
   "pygments_lexer": "ipython3",
   "version": "3.5.5"
  }
 },
 "nbformat": 4,
 "nbformat_minor": 2
}
