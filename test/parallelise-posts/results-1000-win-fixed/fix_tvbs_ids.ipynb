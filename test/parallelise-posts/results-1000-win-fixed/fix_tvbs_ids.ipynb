{
 "cells": [
  {
   "cell_type": "code",
   "execution_count": 8,
   "metadata": {},
   "outputs": [
    {
     "name": "stdout",
     "output_type": "stream",
     "text": [
      "Dropped 294 rows of data.\n"
     ]
    }
   ],
   "source": [
    "import pandas as pd\n",
    "page = 'tvbs'\n",
    "df = pd.read_csv('/Users/Shayne/jupyter/web-scraping/fb-comment/parallelise-article-ids/results/results-1000-win/'+page+'_ids.csv', header=None)\n",
    "before_len = len(df)\n",
    "\n",
    "# Remove not ids\n",
    "df = df.drop(df[df[0].str.startswith('\"')].index)\n",
    "\n",
    "# Remove '102' rows (can't find a pattern to fix)\n",
    "df = df.drop(df[df[0].str.startswith('102')].index)\n",
    "\n",
    "# Add missing trailing 3 to selected ids\n",
    "df.loc[df[0].str.startswith('101') & df[0].str.endswith('93'), 0]  = df[df[0].str.startswith('101')][0] + '3'\n",
    "\n",
    "# Add missing trailing 6 to selected ids\n",
    "df.loc[df[0].str.startswith('101') & df[0].str.endswith('24'), 0]  = df[df[0].str.startswith('101') & df[0].str.endswith('24')][0] + '6'\n",
    "\n",
    "# Add missing trailing 7 to selected ids\n",
    "df.loc[df[0].str.startswith('101') & df[0].str.endswith('13'), 0]  = df[df[0].str.startswith('101') & df[0].str.endswith('13')][0] + '7'\n",
    "\n",
    "# Add missing trailing 4 to selected ids\n",
    "df.loc[df[0].str.startswith('101') & df[0].str.endswith('19'), 0]  = df[df[0].str.startswith('101') & df[0].str.endswith('19')][0] + '4'\n",
    "\n",
    "# Add missing trailing 1 to selected ids\n",
    "df.loc[df[0].str.startswith('101') & df[0].str.endswith('04'), 0]  = df[df[0].str.startswith('101') & df[0].str.endswith('04')][0] + '1'\n",
    "\n",
    "# Save fixed results to csv\n",
    "df.to_csv(page+'_ids.csv', encoding='utf-8', header=None, index=False)\n",
    "\n",
    "print('Dropped %i rows of data.' %(before_len - len(df)) )\n"
   ]
  },
  {
   "cell_type": "code",
   "execution_count": null,
   "metadata": {},
   "outputs": [],
   "source": []
  }
 ],
 "metadata": {
  "kernelspec": {
   "display_name": "Python 3",
   "language": "python",
   "name": "python3"
  },
  "language_info": {
   "codemirror_mode": {
    "name": "ipython",
    "version": 3
   },
   "file_extension": ".py",
   "mimetype": "text/x-python",
   "name": "python",
   "nbconvert_exporter": "python",
   "pygments_lexer": "ipython3",
   "version": "3.5.5"
  }
 },
 "nbformat": 4,
 "nbformat_minor": 2
}
