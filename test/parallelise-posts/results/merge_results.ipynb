{
 "cells": [
  {
   "cell_type": "code",
   "execution_count": 7,
   "metadata": {},
   "outputs": [],
   "source": [
    "import pandas as pd\n",
    "\n",
    "def initCSV():\n",
    "    import csv\n",
    "    with open('merged-results/posts.csv', 'w', encoding=\"utf-8\") as csvfile:\n",
    "        filewriter = csv.writer(csvfile, delimiter=',',\n",
    "                                quotechar='|', quoting=csv.QUOTE_MINIMAL)\n",
    "        filewriter.writerow(['article_index', 'headline', 'status', 'has_headline', \n",
    "                             'has_status', 'has_img', 'has_vid', 'likes', 'page'])\n",
    "        \n",
    "def addColPage(page):\n",
    "    df = pd.read_csv(page+'_posts.csv', header=0)\n",
    "    df['page'] = page\n",
    "    return df\n",
    "\n",
    "def mergeResults(df):\n",
    "    # Append results to existing files\n",
    "    with open('merged-results/posts.csv', 'a', encoding=\"utf-8\") as f:\n",
    "        df.to_csv(f, header=False, index=False)\n",
    "\n",
    "initCSV()\n",
    "page_names = ['ettoday', 'ebc', 'apple', 'yahoo', 'udn', 'tvbs', 'set', 'ltn']\n",
    "\n",
    "for page in page_names:\n",
    "    df = addColPage(page)\n",
    "    mergeResults(df)"
   ]
  },
  {
   "cell_type": "code",
   "execution_count": 8,
   "metadata": {},
   "outputs": [
    {
     "name": "stdout",
     "output_type": "stream",
     "text": [
      "36668\n"
     ]
    }
   ],
   "source": [
    "# Check results\n",
    "result = pd.read_csv('merged-results/posts.csv', header=0, index_col=False)\n",
    "print(len(result))"
   ]
  },
  {
   "cell_type": "code",
   "execution_count": null,
   "metadata": {},
   "outputs": [],
   "source": []
  }
 ],
 "metadata": {
  "kernelspec": {
   "display_name": "Python 3",
   "language": "python",
   "name": "python3"
  },
  "language_info": {
   "codemirror_mode": {
    "name": "ipython",
    "version": 3
   },
   "file_extension": ".py",
   "mimetype": "text/x-python",
   "name": "python",
   "nbconvert_exporter": "python",
   "pygments_lexer": "ipython3",
   "version": "3.5.6"
  }
 },
 "nbformat": 4,
 "nbformat_minor": 2
}
