{
 "cells": [
  {
   "cell_type": "code",
   "execution_count": null,
   "metadata": {},
   "outputs": [],
   "source": [
    "import reuse, sys\n",
    "sys.meta_path.append(reuse.NotebookFinder())\n",
    "\n",
    "import pandas as pd\n",
    "import getArticleIDs\n",
    "page = 'apple'\n",
    "scrolls = 1000\n",
    "base = pd.read_csv('base.csv', index_col='page').loc[page]['base']\n",
    "getArticleIDs.get(page, base, scrolls)"
   ]
  },
  {
   "cell_type": "code",
   "execution_count": null,
   "metadata": {},
   "outputs": [],
   "source": []
  }
 ],
 "metadata": {
  "kernelspec": {
   "display_name": "Python 3",
   "language": "python",
   "name": "python3"
  },
  "language_info": {
   "codemirror_mode": {
    "name": "ipython",
    "version": 3
   },
   "file_extension": ".py",
   "mimetype": "text/x-python",
   "name": "python",
   "nbconvert_exporter": "python",
   "pygments_lexer": "ipython3",
   "version": "3.5.6"
  }
 },
 "nbformat": 4,
 "nbformat_minor": 2
}
