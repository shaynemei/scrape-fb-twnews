{
 "cells": [
  {
   "cell_type": "code",
   "execution_count": null,
   "metadata": {},
   "outputs": [],
   "source": [
    "import pandas as pd\n",
    "df_posts = pd.read_csv('/Users/Shayne/jupyter/web-scraping/fb-data/parallelise-all/results/merged-results/posts.csv', header=0)\n",
    "\n",
    "pages = ['ettoday', 'ebc', 'apple', 'yahoo', 'udn', 'tvbs', 'set', 'ltn']\n",
    "for page in pages:\n",
    "    redo_index = df_posts[(df_posts['has_img']==1) & (df_posts['page']==page)]['article_index']\n",
    "    redo_index.to_csv('redo_index_'+page+'.csv')"
   ]
  }
 ],
 "metadata": {
  "kernelspec": {
   "display_name": "Python 3",
   "language": "python",
   "name": "python3"
  },
  "language_info": {
   "codemirror_mode": {
    "name": "ipython",
    "version": 3
   },
   "file_extension": ".py",
   "mimetype": "text/x-python",
   "name": "python",
   "nbconvert_exporter": "python",
   "pygments_lexer": "ipython3",
   "version": "3.5.5"
  }
 },
 "nbformat": 4,
 "nbformat_minor": 2
}
